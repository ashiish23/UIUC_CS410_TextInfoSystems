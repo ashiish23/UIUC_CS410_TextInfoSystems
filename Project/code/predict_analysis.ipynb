{
 "cells": [
  {
   "cell_type": "code",
   "execution_count": 1,
   "metadata": {},
   "outputs": [
    {
     "data": {
      "text/plain": [
       "(515212, 515212)"
      ]
     },
     "execution_count": 1,
     "metadata": {},
     "output_type": "execute_result"
    }
   ],
   "source": [
    "pos_score = []\n",
    "neg_score = []\n",
    "pos_file = open('pos_score.txt', 'r')\n",
    "neg_file = open('neg_score.txt', 'r')\n",
    "for line in pos_file.readlines():\n",
    "    pos_score.append(float(line))\n",
    "for line in neg_file.readlines():\n",
    "    neg_score.append(float(line))\n",
    "len(pos_score), len(neg_score)"
   ]
  },
  {
   "cell_type": "code",
   "execution_count": 6,
   "metadata": {},
   "outputs": [
    {
     "data": {
      "text/html": [
       "<div>\n",
       "<style scoped>\n",
       "    .dataframe tbody tr th:only-of-type {\n",
       "        vertical-align: middle;\n",
       "    }\n",
       "\n",
       "    .dataframe tbody tr th {\n",
       "        vertical-align: top;\n",
       "    }\n",
       "\n",
       "    .dataframe thead th {\n",
       "        text-align: right;\n",
       "    }\n",
       "</style>\n",
       "<table border=\"1\" class=\"dataframe\">\n",
       "  <thead>\n",
       "    <tr style=\"text-align: right;\">\n",
       "      <th></th>\n",
       "      <th>Avg_score</th>\n",
       "      <th>Hotel_name</th>\n",
       "      <th>neg</th>\n",
       "      <th>pos</th>\n",
       "    </tr>\n",
       "  </thead>\n",
       "  <tbody>\n",
       "    <tr>\n",
       "      <th>0</th>\n",
       "      <td>7.7</td>\n",
       "      <td>Hotel Arena</td>\n",
       "      <td>454.3</td>\n",
       "      <td>23.0</td>\n",
       "    </tr>\n",
       "    <tr>\n",
       "      <th>1</th>\n",
       "      <td>7.7</td>\n",
       "      <td>Hotel Arena</td>\n",
       "      <td>0.0</td>\n",
       "      <td>133.0</td>\n",
       "    </tr>\n",
       "    <tr>\n",
       "      <th>2</th>\n",
       "      <td>7.7</td>\n",
       "      <td>Hotel Arena</td>\n",
       "      <td>63.4</td>\n",
       "      <td>54.1</td>\n",
       "    </tr>\n",
       "    <tr>\n",
       "      <th>3</th>\n",
       "      <td>7.7</td>\n",
       "      <td>Hotel Arena</td>\n",
       "      <td>462.7</td>\n",
       "      <td>62.7</td>\n",
       "    </tr>\n",
       "    <tr>\n",
       "      <th>4</th>\n",
       "      <td>7.7</td>\n",
       "      <td>Hotel Arena</td>\n",
       "      <td>137.4</td>\n",
       "      <td>43.2</td>\n",
       "    </tr>\n",
       "  </tbody>\n",
       "</table>\n",
       "</div>"
      ],
      "text/plain": [
       "   Avg_score   Hotel_name    neg    pos\n",
       "0        7.7  Hotel Arena  454.3   23.0\n",
       "1        7.7  Hotel Arena    0.0  133.0\n",
       "2        7.7  Hotel Arena   63.4   54.1\n",
       "3        7.7  Hotel Arena  462.7   62.7\n",
       "4        7.7  Hotel Arena  137.4   43.2"
      ]
     },
     "execution_count": 6,
     "metadata": {},
     "output_type": "execute_result"
    }
   ],
   "source": [
    "import pandas as pd\n",
    "data = pd.read_pickle('Filling_nans')\n",
    "##print(len(data), len(pos_reviews), len(neg_reviews))  (515212, 515212, 515212)\n",
    "new_dataset = pd.DataFrame({'Hotel_name': data['Hotel_Name'], 'Avg_score': data['Average_Score'], 'pos': pos_score, \n",
    "                            'neg':  neg_score})\n",
    "new_dataset.head()"
   ]
  },
  {
   "cell_type": "code",
   "execution_count": 4,
   "metadata": {},
   "outputs": [
    {
     "data": {
      "text/html": [
       "<div>\n",
       "<style scoped>\n",
       "    .dataframe tbody tr th:only-of-type {\n",
       "        vertical-align: middle;\n",
       "    }\n",
       "\n",
       "    .dataframe tbody tr th {\n",
       "        vertical-align: top;\n",
       "    }\n",
       "\n",
       "    .dataframe thead th {\n",
       "        text-align: right;\n",
       "    }\n",
       "</style>\n",
       "<table border=\"1\" class=\"dataframe\">\n",
       "  <thead>\n",
       "    <tr style=\"text-align: right;\">\n",
       "      <th></th>\n",
       "      <th>reviews</th>\n",
       "      <th>score</th>\n",
       "      <th>Summary</th>\n",
       "    </tr>\n",
       "  </thead>\n",
       "  <tbody>\n",
       "    <tr>\n",
       "      <th>0</th>\n",
       "      <td>only the park outside of the hotel was beautiful</td>\n",
       "      <td>1</td>\n",
       "      <td>park outside hotel beauti</td>\n",
       "    </tr>\n",
       "    <tr>\n",
       "      <th>1</th>\n",
       "      <td>no real complaints the hotel was great great l...</td>\n",
       "      <td>1</td>\n",
       "      <td>real complaints hotel great great location su...</td>\n",
       "    </tr>\n",
       "    <tr>\n",
       "      <th>2</th>\n",
       "      <td>location was good and staff were ok it is cute...</td>\n",
       "      <td>1</td>\n",
       "      <td>location good staff ok cute hotel breakfast r...</td>\n",
       "    </tr>\n",
       "    <tr>\n",
       "      <th>3</th>\n",
       "      <td>great location in nice surroundings the bar an...</td>\n",
       "      <td>1</td>\n",
       "      <td>great location nice surroundings bar restaura...</td>\n",
       "    </tr>\n",
       "    <tr>\n",
       "      <th>4</th>\n",
       "      <td>amazing location and building romantic setting</td>\n",
       "      <td>1</td>\n",
       "      <td>amazing location building romantic set</td>\n",
       "    </tr>\n",
       "  </tbody>\n",
       "</table>\n",
       "</div>"
      ],
      "text/plain": [
       "                                             reviews  score  \\\n",
       "0   only the park outside of the hotel was beautiful      1   \n",
       "1  no real complaints the hotel was great great l...      1   \n",
       "2  location was good and staff were ok it is cute...      1   \n",
       "3  great location in nice surroundings the bar an...      1   \n",
       "4     amazing location and building romantic setting      1   \n",
       "\n",
       "                                             Summary  \n",
       "0                          park outside hotel beauti  \n",
       "1   real complaints hotel great great location su...  \n",
       "2   location good staff ok cute hotel breakfast r...  \n",
       "3   great location nice surroundings bar restaura...  \n",
       "4             amazing location building romantic set  "
      ]
     },
     "execution_count": 4,
     "metadata": {},
     "output_type": "execute_result"
    }
   ],
   "source": [
    "df = pd.read_pickle('text_df')\n",
    "df.head()"
   ]
  },
  {
   "cell_type": "code",
   "execution_count": null,
   "metadata": {},
   "outputs": [],
   "source": []
  }
 ],
 "metadata": {
  "kernelspec": {
   "display_name": "Python 2",
   "language": "python",
   "name": "python2"
  },
  "language_info": {
   "codemirror_mode": {
    "name": "ipython",
    "version": 2
   },
   "file_extension": ".py",
   "mimetype": "text/x-python",
   "name": "python",
   "nbconvert_exporter": "python",
   "pygments_lexer": "ipython2",
   "version": "2.7.15"
  }
 },
 "nbformat": 4,
 "nbformat_minor": 2
}
